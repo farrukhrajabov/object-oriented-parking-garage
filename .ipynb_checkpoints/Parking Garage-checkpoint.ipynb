{
 "cells": [
  {
   "cell_type": "code",
   "execution_count": 2,
   "metadata": {},
   "outputs": [
    {
     "name": "stdout",
     "output_type": "stream",
     "text": [
      "Welcome to the AUS Parking!\n",
      "\n",
      "Take a ticket to park your car:\n",
      " \n",
      "Enter 'a' to print the ticket: a\n",
      "Enter 10 to make a payment: 11\n",
      "Please enter the correct fee!\n",
      "Enter '10' to make a payment: 24\n",
      "\n",
      "Please enter the correct fee!\n",
      "Enter '10' to make a payment: 54\n",
      "\n",
      "Please enter the correct fee!\n",
      "Enter '10' to make a payment: 10\n",
      "Thank you, have a nice day!\n"
     ]
    }
   ],
   "source": [
    "class Parking():\n",
    "    \n",
    "    # Attributes : tickets, parkingSpaces, currentTicket\n",
    "    def __init__(self):\n",
    "        self.tickets = [0,1,2,3,4,5]\n",
    "        self.parkingSpaces = [0,1,2,3,4,5]\n",
    "        self.currentTicket = {}\n",
    "\n",
    "    # Methods : takeTicket, payForParking, leaveGarage\n",
    "    def takeTicket(self):\n",
    "        if len(self.parkingSpaces) == 0:\n",
    "            print(\"We don't have any available space right now!\")\n",
    "        else:\n",
    "            self.tickets.remove(self.tickets[-1])\n",
    "            self.parkingSpaces.remove(self.parkingSpaces[-1]) \n",
    "\n",
    "    def payForParking(self):\n",
    "        payment_amount = input(\"Enter 10 to make a payment: \")\n",
    "        if payment_amount == '10':\n",
    "            self.currentTicket[\"Paid\"] = True\n",
    "            print(\"The ticket fee has been paid.\\nYou have only 15 minutes to leave!\")\n",
    "        elif payment_amount != '10':\n",
    "            self.currentTicket[\"Paid\"] = False\n",
    "            print(\"Please enter the correct fee!\")\n",
    "            \n",
    "            \n",
    "\n",
    "    def leaveGarage(self):\n",
    "        if self.currentTicket[\"Paid\"] == True:\n",
    "            print(\"Thank you, have a nice day!\")                      \n",
    "        else:\n",
    "            payment_amount = input(\"Enter '10' to make a payment: \")           \n",
    "            while payment_amount != '10':\n",
    "                print(\"\\nPlease enter the correct fee!\")\n",
    "                payment_amount = input(\"Enter '10' to make a payment: \")\n",
    "            if payment_amount == '10':\n",
    "                     print(\"Thank you, have a nice day!\")   \n",
    "                                            \n",
    "\n",
    "            # increase tickets and spaces\n",
    "            self.tickets.append(self.tickets[-1]+1)\n",
    "            self.parkingSpaces.append(self.parkingSpaces[-1]+1)  \n",
    "            \n",
    "# run\n",
    "def run():             \n",
    "    parking_area = Parking()\n",
    "    print(\"Welcome to the AUS Parking!\\n\")\n",
    "    print(\"Take a ticket to park your car:\\n \")\n",
    "\n",
    "    # input\n",
    "    newTicket = input(\"Enter 'a' to print the ticket: \")\n",
    "    if newTicket == 'a':\n",
    "        parking_area.takeTicket()\n",
    "        parking_area.payForParking()\n",
    "        parking_area.leaveGarage()\n",
    "        \n",
    "    else:\n",
    "        print(\"Try again!\") \n",
    "run()\n"
   ]
  },
  {
   "cell_type": "code",
   "execution_count": null,
   "metadata": {},
   "outputs": [],
   "source": []
  },
  {
   "cell_type": "code",
   "execution_count": null,
   "metadata": {},
   "outputs": [],
   "source": []
  }
 ],
 "metadata": {
  "kernelspec": {
   "display_name": "Python 3 (ipykernel)",
   "language": "python",
   "name": "python3"
  },
  "language_info": {
   "codemirror_mode": {
    "name": "ipython",
    "version": 3
   },
   "file_extension": ".py",
   "mimetype": "text/x-python",
   "name": "python",
   "nbconvert_exporter": "python",
   "pygments_lexer": "ipython3",
   "version": "3.9.13"
  },
  "vscode": {
   "interpreter": {
    "hash": "aee8b7b246df8f9039afb4144a1f6fd8d2ca17a180786b69acc140d282b71a49"
   }
  }
 },
 "nbformat": 4,
 "nbformat_minor": 2
}
